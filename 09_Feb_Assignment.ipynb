{
 "cells": [
  {
   "cell_type": "markdown",
   "id": "7aaec8e0-e631-47d9-a627-9e316c220fb0",
   "metadata": {},
   "source": [
    "Q1, Create a vehicle class with an init method having instance variables as name_of_vehicle, max_speed  and average_of_vehicle."
   ]
  },
  {
   "cell_type": "code",
   "execution_count": 2,
   "id": "8fda2d8e-4a1c-4c1f-ba10-973bf58e0831",
   "metadata": {},
   "outputs": [],
   "source": [
    "class vehicle():\n",
    "    \n",
    "    def __init__(self, name_of_vehicle, max_speed ,average_of_vehicle):\n",
    "        self.name_of_vehicle = name_of_vehicle\n",
    "        self.max_speed = max_speed\n",
    "        self.average_of_vehicle = average_of_vehicle"
   ]
  },
  {
   "cell_type": "markdown",
   "id": "e7d4b69b-6ac2-4959-aead-761061c8a45a",
   "metadata": {},
   "source": [
    "Q2.  Create a child class car from the vehicle class created in Que 1, which will inherit the vehicle class.  Create a method named seating_capacity which takes capacity as an argument and returns the name of  the vehicle and its seating capacity. "
   ]
  },
  {
   "cell_type": "code",
   "execution_count": 3,
   "id": "8533a0d5-840a-4071-a3e5-50a8ab526947",
   "metadata": {},
   "outputs": [],
   "source": [
    "class car(vehicle):\n",
    "    \n",
    "    def seating_capacity(self,capacity):\n",
    "        return (self.name_of_vehicle,capacity)"
   ]
  },
  {
   "cell_type": "code",
   "execution_count": 5,
   "id": "e4fb8ab7-adf7-4a17-b6b4-c9346b877a25",
   "metadata": {},
   "outputs": [],
   "source": [
    "c = car('nexon',120,80)"
   ]
  },
  {
   "cell_type": "code",
   "execution_count": 6,
   "id": "a54552cb-c3b5-4944-ba66-f817c7712306",
   "metadata": {},
   "outputs": [
    {
     "data": {
      "text/plain": [
       "('nexon', 7)"
      ]
     },
     "execution_count": 6,
     "metadata": {},
     "output_type": "execute_result"
    }
   ],
   "source": [
    "c.seating_capacity(7)"
   ]
  },
  {
   "cell_type": "markdown",
   "id": "6d857acb-3193-4051-9ff7-3f4da38228fa",
   "metadata": {},
   "source": [
    "Q3. What is multiple inheritance? Write a python code to demonstrate multiple inheritance. "
   ]
  },
  {
   "cell_type": "markdown",
   "id": "19702036-2438-4a57-aad5-1867f2a0f769",
   "metadata": {},
   "source": [
    "When a class is derived from more than one base class it is called multiple Inheritance. The derived class inherits all the features of the base case."
   ]
  },
  {
   "cell_type": "code",
   "execution_count": 8,
   "id": "fb927cc5-52b9-42c5-a302-2d118a81af4f",
   "metadata": {},
   "outputs": [],
   "source": [
    "class class1():\n",
    "    \n",
    "    def m(self):\n",
    "        print(\"This is class 1\")"
   ]
  },
  {
   "cell_type": "code",
   "execution_count": 13,
   "id": "d3a758b0-4db2-495b-b8ec-9300588057f3",
   "metadata": {},
   "outputs": [],
   "source": [
    "class class2():\n",
    "    \n",
    "    def n(self):\n",
    "        print(\"This is class 2\")"
   ]
  },
  {
   "cell_type": "code",
   "execution_count": 14,
   "id": "7e25e4d7-5f5d-4427-b25b-c2cf7dcd3db4",
   "metadata": {},
   "outputs": [],
   "source": [
    "class class3(class1,class2):\n",
    "    pass"
   ]
  },
  {
   "cell_type": "code",
   "execution_count": 15,
   "id": "c323336b-025f-4aaf-9449-0480c6495550",
   "metadata": {},
   "outputs": [],
   "source": [
    "a = class3()"
   ]
  },
  {
   "cell_type": "code",
   "execution_count": 16,
   "id": "ae25b392-6bd7-40a5-9d18-9b59675816d5",
   "metadata": {},
   "outputs": [
    {
     "name": "stdout",
     "output_type": "stream",
     "text": [
      "This is class 1\n"
     ]
    }
   ],
   "source": [
    "a.m()"
   ]
  },
  {
   "cell_type": "code",
   "execution_count": 17,
   "id": "11fea34f-49e6-4555-939b-aa70dcb660ae",
   "metadata": {},
   "outputs": [
    {
     "name": "stdout",
     "output_type": "stream",
     "text": [
      "This is class 2\n"
     ]
    }
   ],
   "source": [
    "a.n()"
   ]
  },
  {
   "cell_type": "markdown",
   "id": "a2847a2c-6730-4fb2-be15-ead05f103184",
   "metadata": {},
   "source": [
    "Q4. What are getter and setter in python? Create a class and create a getter and a setter method in this  class. \n"
   ]
  },
  {
   "cell_type": "markdown",
   "id": "e95eb85d-fb31-4835-a821-30c45ca66845",
   "metadata": {},
   "source": [
    "Getter: A method that allows you to access an attribute in a given class.                   \n",
    "Setter: A method that allows you to set or mutate the value of an attribute in a class"
   ]
  },
  {
   "cell_type": "code",
   "execution_count": 1,
   "id": "ee831e71-9737-4c18-87e0-695a1b179869",
   "metadata": {},
   "outputs": [
    {
     "name": "stdout",
     "output_type": "stream",
     "text": [
      "21\n",
      "21\n"
     ]
    }
   ],
   "source": [
    "class Geek:\n",
    "    def __init__(self, age = 0):\n",
    "         self._age = age\n",
    "      \n",
    "    # getter method\n",
    "    def get_age(self):\n",
    "        return self._age\n",
    "      \n",
    "    # setter method\n",
    "    def set_age(self, x):\n",
    "        self._age = x\n",
    "  \n",
    "raj = Geek()\n",
    "  \n",
    "# setting the age using setter\n",
    "raj.set_age(21)\n",
    "  \n",
    "# retrieving age using getter\n",
    "print(raj.get_age())\n",
    "  \n",
    "print(raj._age)"
   ]
  },
  {
   "cell_type": "markdown",
   "id": "49e32196-e83e-43d8-be30-5f53f848e425",
   "metadata": {},
   "source": [
    "Q5.What is method overriding in python? Write a python code to demonstrate method overriding."
   ]
  },
  {
   "cell_type": "markdown",
   "id": "fd1ca8dc-1d41-4d51-8503-4dab52a0508c",
   "metadata": {},
   "source": [
    "Method overriding is an ability of any object-oriented programming language that allows a subclass or child class to provide a specific implementation of a method that is already provided by one of its super-classes or parent classes."
   ]
  },
  {
   "cell_type": "code",
   "execution_count": null,
   "id": "e95ed422-1359-4f7a-9de3-41908960fe5e",
   "metadata": {},
   "outputs": [],
   "source": []
  }
 ],
 "metadata": {
  "kernelspec": {
   "display_name": "Python 3 (ipykernel)",
   "language": "python",
   "name": "python3"
  },
  "language_info": {
   "codemirror_mode": {
    "name": "ipython",
    "version": 3
   },
   "file_extension": ".py",
   "mimetype": "text/x-python",
   "name": "python",
   "nbconvert_exporter": "python",
   "pygments_lexer": "ipython3",
   "version": "3.10.8"
  }
 },
 "nbformat": 4,
 "nbformat_minor": 5
}
